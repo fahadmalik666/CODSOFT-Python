{
 "cells": [
  {
   "cell_type": "code",
   "execution_count": null,
   "id": "4abe6c46",
   "metadata": {},
   "outputs": [
    {
     "name": "stdout",
     "output_type": "stream",
     "text": [
      "ERROR! Session/line number was not unique in database. History logging moved to new session 6\n",
      "Choose rock, paper, or scissors: paper\n",
      "You chose paper.\n",
      "The computer chose paper.\n",
      "It's a tie!\n",
      "Your score: 0, Computer's score: 0\n"
     ]
    }
   ],
   "source": [
    "import random\n",
    "\n",
    "user_score = 0\n",
    "computer_score = 0\n",
    "\n",
    "while True:\n",
    "    user_choice = input(\"Choose rock, paper, or scissors: \").lower()\n",
    "    computer_choice = random.choice([\"rock\", \"paper\", \"scissors\"])\n",
    "    \n",
    "    print(f\"You chose {user_choice}.\")\n",
    "    print(f\"The computer chose {computer_choice}.\")\n",
    "    \n",
    "    if user_choice == computer_choice:\n",
    "        print(\"It's a tie!\")\n",
    "    elif (\n",
    "        (user_choice == \"rock\" and computer_choice == \"scissors\") or\n",
    "        (user_choice == \"scissors\" and computer_choice == \"paper\") or\n",
    "        (user_choice == \"paper\" and computer_choice == \"rock\")\n",
    "    ):\n",
    "        print(\"You win!\")\n",
    "        user_score += 1\n",
    "    else:\n",
    "        print(\"Computer wins!\")\n",
    "        computer_score += 1\n",
    "    \n",
    "    print(f\"Your score: {user_score}, Computer's score: {computer_score}\")\n",
    "    \n",
    "    play_again = input(\"Do you want to play again? (yes/no): \").lower()\n",
    "    if play_again != \"yes\":\n",
    "        break"
   ]
  },
  {
   "cell_type": "code",
   "execution_count": null,
   "id": "597497a8",
   "metadata": {},
   "outputs": [],
   "source": []
  }
 ],
 "metadata": {
  "kernelspec": {
   "display_name": "Python 3 (ipykernel)",
   "language": "python",
   "name": "python3"
  },
  "language_info": {
   "codemirror_mode": {
    "name": "ipython",
    "version": 3
   },
   "file_extension": ".py",
   "mimetype": "text/x-python",
   "name": "python",
   "nbconvert_exporter": "python",
   "pygments_lexer": "ipython3",
   "version": "3.11.5"
  }
 },
 "nbformat": 4,
 "nbformat_minor": 5
}
