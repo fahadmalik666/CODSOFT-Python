{
 "cells": [
  {
   "cell_type": "code",
   "execution_count": 13,
   "id": "a0ca81f6",
   "metadata": {},
   "outputs": [
    {
     "name": "stdout",
     "output_type": "stream",
     "text": [
      "Which function do you want to perform?\n",
      "1. Addition\n",
      "2. Subtraction\n",
      "3. Multiplication\n",
      "4. Division\n",
      "Enter the first number: 2\n",
      "Enter the second number: 1\n",
      "Enter your choice: 1\n",
      "3.0\n"
     ]
    }
   ],
   "source": [
    "print(\"Which function do you want to perform?\")\n",
    "print(\"1. Addition\")\n",
    "print(\"2. Subtraction\")\n",
    "print(\"3. Multiplication\")\n",
    "print(\"4. Division\")\n",
    "\n",
    "first_num = float(input(\"Enter the first number: \"))\n",
    "second_num = float(input(\"Enter the second number: \"))\n",
    "\n",
    "choice = input(\"Enter your choice: \")\n",
    "if choice == \"1\":\n",
    "    sum_result = first_num + second_num\n",
    "    print(sum_result)\n",
    "elif choice == \"2\":\n",
    "    subtract_result = first_num - second_num\n",
    "    print(subtract_result)\n",
    "elif choice == \"3\":\n",
    "    product_result = first_num * second_num\n",
    "    print(product_result)\n",
    "elif choice == \"4\":\n",
    "    division_result = first_num / second_num\n",
    "    print(division_result)\n",
    "else:\n",
    "    print(\"Invalid choice\")"
   ]
  },
  {
   "cell_type": "code",
   "execution_count": null,
   "id": "8901594c",
   "metadata": {},
   "outputs": [],
   "source": []
  }
 ],
 "metadata": {
  "kernelspec": {
   "display_name": "Python 3 (ipykernel)",
   "language": "python",
   "name": "python3"
  },
  "language_info": {
   "codemirror_mode": {
    "name": "ipython",
    "version": 3
   },
   "file_extension": ".py",
   "mimetype": "text/x-python",
   "name": "python",
   "nbconvert_exporter": "python",
   "pygments_lexer": "ipython3",
   "version": "3.11.5"
  }
 },
 "nbformat": 4,
 "nbformat_minor": 5
}
