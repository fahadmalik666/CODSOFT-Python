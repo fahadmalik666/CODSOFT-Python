{
 "cells": [
  {
   "cell_type": "code",
   "execution_count": null,
   "id": "37793674",
   "metadata": {},
   "outputs": [],
   "source": [
    "import random\n",
    "import string\n",
    "\n",
    "length = int(input(\"Enter the desired length of the passowrd :\"))\n",
    "password=\"\".join(random.choice(string.ascii_letters + string.digits + string.punctuation) for _ in range(length))\n",
    "print(\"Generated password :\",password)"
   ]
  },
  {
   "cell_type": "code",
   "execution_count": null,
   "id": "f7e9ebbb",
   "metadata": {},
   "outputs": [],
   "source": []
  },
  {
   "cell_type": "code",
   "execution_count": null,
   "id": "61ffcab7",
   "metadata": {},
   "outputs": [],
   "source": [
    "import random\n",
    "import string\n",
    "\n",
    "length = int(input(\"Enter the desired length of the password: \"))\n",
    "\n",
    "password = ''.join(random.choice(string.ascii_letters + string.digits + string.punctuation) for _ in range(length))\n",
    "\n",
    "print(\"Generated Password:\", password)\n"
   ]
  }
 ],
 "metadata": {
  "kernelspec": {
   "display_name": "Python 3 (ipykernel)",
   "language": "python",
   "name": "python3"
  },
  "language_info": {
   "codemirror_mode": {
    "name": "ipython",
    "version": 3
   },
   "file_extension": ".py",
   "mimetype": "text/x-python",
   "name": "python",
   "nbconvert_exporter": "python",
   "pygments_lexer": "ipython3",
   "version": "3.11.5"
  }
 },
 "nbformat": 4,
 "nbformat_minor": 5
}
